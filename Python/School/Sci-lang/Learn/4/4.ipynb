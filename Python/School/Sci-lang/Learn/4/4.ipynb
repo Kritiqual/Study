{
 "cells": [
  {
   "cell_type": "code",
   "execution_count": null,
   "metadata": {},
   "outputs": [],
   "source": [
    "# Bài 1\n",
    "from os import system\n",
    "\n",
    "n = int(input(\"Nhập n: \"))\n",
    "while len(str(n)) > 5:\n",
    "    system(\"clear\")\n",
    "    n = int(input(\"Nhập n: \"))\n",
    "\n",
    "N = n // 1000\n",
    "T = (n % 1000) // 100\n",
    "C = (n % 100) // 10\n",
    "D = n % 10\n",
    "if N == 0:\n",
    "    if T == 0:\n",
    "        if C == 0:\n",
    "            print(f\"{D} don vi\")\n",
    "        else:\n",
    "            print(f\"{C} chuc {D} don vi\")\n",
    "    else:\n",
    "        print(f\"{T} tram {C} chuc {D} don vi\")\n",
    "else:\n",
    "    print(f\"{N} nghin {T} tram {C} chuc {D} don vi\")\n"
   ]
  },
  {
   "cell_type": "code",
   "execution_count": null,
   "metadata": {},
   "outputs": [],
   "source": [
    "# Bài 2\n",
    "from math import sqrt, fabs\n",
    "\n",
    "x1, y1 = map(float, input(\"Nhập tọa độ của A: \").split())\n",
    "x2, y2 = map(float, input(\"Nhập tọa độ của B: \").split())\n",
    "\n",
    "D = sqrt((x1 - x2) ** 2 + (y1 - y2) ** 2)\n",
    "M = fabs(x1 - x2) + fabs(y1 - y2)\n",
    "C = 1 - (x1 * x2 - y1 * y2) / (sqrt((x1 + x2) ** 2) + sqrt((y1 - y2) ** 2))\n",
    "print(f\"D = {D:.5f}\")\n",
    "print(f\"M = {M:.5f}\")\n",
    "print(f\"C = {C:.5f}\")\n"
   ]
  },
  {
   "cell_type": "code",
   "execution_count": null,
   "metadata": {},
   "outputs": [],
   "source": [
    "# Bài 3\n",
    "a, b, c = map(int, input(\"Nhập hệ số a, b vaf c: \").split())\n",
    "if a == 0:\n",
    "    if b == 0:\n",
    "        if c == 0:\n",
    "            print(\"Phương trình vô số nghiệm\")\n",
    "        else:\n",
    "            print(\"Phương trình vô nghiệm\")\n",
    "    else:\n",
    "        x = -c / b\n",
    "        print(f\"Phương trình có nghiệm x = {x}\")\n",
    "else:\n",
    "    delta = b**2 - 4 * a * c\n",
    "    if delta < 0:\n",
    "        print(\"Phương trình vô nghiệm\")\n",
    "    elif delta == 0:\n",
    "        x = -b / (2 * a)\n",
    "        print(f\"Phương trình có nghiệm kép: x = {x}\")\n",
    "    else:\n",
    "        x1 = (-b + sqrt(delta)) / (2 * a)\n",
    "        x2 = (-b - sqrt(delta)) / (2 * a)\n",
    "        print(f\"Phương trình có 2 nghiệm phân biệt: x1 = {x1}, x2 = {x2},\")\n"
   ]
  },
  {
   "cell_type": "code",
   "execution_count": null,
   "metadata": {},
   "outputs": [],
   "source": [
    "# Bài 4\n",
    "x = float(input(\"Nhập vào số thực x: \"))\n",
    "n = int(input(\"Nhập vào số nguyên n: \"))\n",
    "\n",
    "S = 0.0\n",
    "if not n % 2:\n",
    "    for i in range(2, n):\n",
    "        S += x**i / 3**i\n",
    "    else:\n",
    "        S += 2016 * x\n",
    "print(f\"S = {S:.5f}\")\n"
   ]
  },
  {
   "cell_type": "code",
   "execution_count": null,
   "metadata": {},
   "outputs": [],
   "source": [
    "# Bài 5\n",
    "from os import system\n",
    "from math import sqrt\n",
    "\n",
    "n = int(input(\"Nhập n: \"))\n",
    "while len(str(abs(n))) > 6:\n",
    "    system(\"clear\")\n",
    "    n = int(input(\"Nhập n: \"))\n",
    "\n",
    "if n > 1:\n",
    "    for i in range(2, int(sqrt(n)) + 1):\n",
    "        if not n % i:\n",
    "            check = False\n",
    "            break\n",
    "    else:\n",
    "        check = True\n",
    "else:\n",
    "    check = False\n",
    "\n",
    "if check:\n",
    "    if str(n) == str(n)[::-1]:\n",
    "        print(f\"{n} là số hợp lệ\")\n",
    "    else:\n",
    "        print(f\"{n} không là số hợp lệ\")\n",
    "else:\n",
    "    print(f\"{n} không là số hợp lệ\")\n"
   ]
  }
 ],
 "metadata": {
  "interpreter": {
   "hash": "e7370f93d1d0cde622a1f8e1c04877d8463912d04d973331ad4851f04de6915a"
  },
  "kernelspec": {
   "display_name": "Python 3.10.3 64-bit",
   "language": "python",
   "name": "python3"
  },
  "language_info": {
   "codemirror_mode": {
    "name": "ipython",
    "version": 3
   },
   "file_extension": ".py",
   "mimetype": "text/x-python",
   "name": "python",
   "nbconvert_exporter": "python",
   "pygments_lexer": "ipython3",
   "version": "3.10.4"
  },
  "orig_nbformat": 4
 },
 "nbformat": 4,
 "nbformat_minor": 2
}
