{
 "cells": [
  {
   "cell_type": "code",
   "execution_count": null,
   "metadata": {},
   "outputs": [],
   "source": [
    "import matplotlib.pyplot as plt\n",
    "import numpy as np\n"
   ]
  },
  {
   "cell_type": "code",
   "execution_count": null,
   "metadata": {},
   "outputs": [],
   "source": [
    "# 6.1\n",
    "x = np.array([1, 1.5, 2, 1.3, 0.3, 4, 5, 10, 1, 3])\n",
    "y = np.array([4, 6, 8, 4.4, 5, 2.1, 0, 1.2, 7, 10])\n",
    "plt.subplot(1, 2, 1)\n",
    "plt.plot(x, y)\n",
    "\n",
    "\n",
    "def f(x):\n",
    "    return 3 * x**3 - 3 * x**2 + 3 * x - 3\n",
    "\n",
    "\n",
    "x = np.linspace(-10, 10, 100)\n",
    "y = f(x)\n",
    "plt.subplot(1, 2, 2)\n",
    "plt.plot(x, y)\n",
    "\n",
    "plt.show()\n"
   ]
  },
  {
   "cell_type": "code",
   "execution_count": null,
   "metadata": {},
   "outputs": [],
   "source": [
    "# 6.2\n",
    "def f(x):\n",
    "    return np.sin(x)\n",
    "\n",
    "\n",
    "x = np.linspace(-3 * np.pi, 3 * np.pi, 100)\n",
    "y = f(x)\n",
    "\n",
    "font = {\n",
    "    \"family\": \"Cascadia Code\",\n",
    "    \"size\": \"15\",\n",
    "}\n",
    "plt.title(\"ĐỒ THỊ Y = SIN(X)\")\n",
    "plt.xlabel(\"Trục X\", loc=\"right\", c=\"cyan\", fontdict=font)\n",
    "plt.ylabel(\"Trục Y\", loc=\"top\", c=\"cyan\", fontdict=font)\n",
    "plt.plot(x, y, marker=\"*\", ms=15, mec=\"r\", mfc=\"y\")\n",
    "plt.plot(x, y, c=\"cyan\")\n",
    "plt.show()\n"
   ]
  },
  {
   "cell_type": "code",
   "execution_count": null,
   "metadata": {},
   "outputs": [],
   "source": [
    "# 6.3\n",
    "def r_file(file):\n",
    "    with open(file, \"r\") as f:\n",
    "        x = np.array(f.readline().split(), dtype=int)\n",
    "        y = np.array(f.readline().split(), dtype=int)\n",
    "        return x, y\n",
    "\n",
    "\n",
    "x, y = r_file(\"./DATA63.txt\")\n",
    "plt.title(\"SCATTER CHART\")\n",
    "plt.xlabel(\"Trục x\", loc=\"right\")\n",
    "plt.ylabel(\"Trục y\", loc=\"top\")\n",
    "plt.grid(ls=\"dashed\", axis=\"y\", c=\"green\")\n",
    "plt.scatter(x, y, c=\"red\", s=y, alpha=0.7)\n",
    "plt.show()\n"
   ]
  },
  {
   "cell_type": "code",
   "execution_count": null,
   "metadata": {},
   "outputs": [],
   "source": [
    "# 6.4\n",
    "plt.subplot(1, 3, 1)\n",
    "plt.title(\"BAR CHART\")\n",
    "plt.xlabel(\"x axis\", loc=\"right\")\n",
    "plt.ylabel(\"y axis\", loc=\"top\")\n",
    "plt.bar(x, y, color=\"r\")\n",
    "\n",
    "plt.subplot(1, 3, 2)\n",
    "plt.title(\"HISTOGRAM CHART\")\n",
    "plt.xlabel(\"x axis\", loc=\"right\")\n",
    "plt.ylabel(\"y axis\", loc=\"top\")\n",
    "plt.hist(y, color=\"g\")\n",
    "\n",
    "plt.subplot(1, 3, 3)\n",
    "plt.title(\"PIE CHART\")\n",
    "plt.pie(x)\n",
    "\n",
    "plt.show()\n"
   ]
  },
  {
   "cell_type": "code",
   "execution_count": null,
   "metadata": {},
   "outputs": [],
   "source": [
    "# 6.5\n",
    "x = [\"Nhãn\", \"Xoài\", \"Dứa\", \"Chuối\", \"Cam\", \"Bưởi\"]\n",
    "y = [5800, 3200, 1200, 1700, 2400, 980]\n",
    "explode = [0.2, 0, 0.3, 0.2, 0.1, 0]\n",
    "clr = [\"orange\", \"cyan\", \"brown\", \"gray\", \"blue\", \"beige\"]\n",
    "we = {\"edgecolor\": \"green\"}\n",
    "te = {\"color\": \"black\"}\n",
    "\n",
    "plt.title(\"BIỂU ĐỒ SẢN LƯỢNG 2022\")\n",
    "plt.pie(\n",
    "    y,\n",
    "    explode=explode,\n",
    "    shadow=True,\n",
    "    labels=x,\n",
    "    autopct=\"%.2f\",\n",
    "    colors=clr,\n",
    "    wedgeprops=we,\n",
    "    textprops=te,\n",
    ")\n",
    "\n",
    "plt.show()\n"
   ]
  }
 ],
 "metadata": {
  "kernelspec": {
   "display_name": "Python 3.10.4 64-bit",
   "language": "python",
   "name": "python3"
  },
  "language_info": {
   "codemirror_mode": {
    "name": "ipython",
    "version": 3
   },
   "file_extension": ".py",
   "mimetype": "text/x-python",
   "name": "python",
   "nbconvert_exporter": "python",
   "pygments_lexer": "ipython3",
   "version": "3.10.5"
  },
  "orig_nbformat": 4,
  "vscode": {
   "interpreter": {
    "hash": "e7370f93d1d0cde622a1f8e1c04877d8463912d04d973331ad4851f04de6915a"
   }
  }
 },
 "nbformat": 4,
 "nbformat_minor": 2
}
