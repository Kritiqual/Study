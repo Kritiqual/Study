{
    "cells": [
        {
            "cell_type": "code",
            "execution_count": null,
            "metadata": {},
            "outputs": [],
            "source": [
                "a, b = map(int, input(\"Nhap a va b = \").split())\n",
                "print(f\"a + b = {a + b}\")\n",
                "print(f\"a - b = {a - b}\")\n",
                "print(f\"a * b = {a * b}\")\n",
                "print(f\"a / b = {(a / b):.3f}\")\n"
            ]
        },
        {
            "cell_type": "code",
            "execution_count": null,
            "metadata": {},
            "outputs": [],
            "source": [
                "import math\n",
                "\n",
                "a, b = map(float, input(\"Nhap A(x1, y1) = \").split())\n",
                "c, d = map(float, input(\"Nhap B(x2, y2) = \").split())\n",
                "print(f\"d(A, B) = {math.sqrt((a - b) ** 2) + (c - d) ** 2}\")\n"
            ]
        },
        {
            "cell_type": "code",
            "execution_count": null,
            "metadata": {},
            "outputs": [],
            "source": [
                "import math\n",
                "a, b, c = map(int, input().split(','))\n",
                "\n",
                "if a == 0:\n",
                "    # if b == 0:\n",
                "    #     print(\"Phuong trinh vo so nghiem\")\n",
                "    # else:\n",
                "    #     print(f\"Phuong trinh co nghiem x = {-c/b}\")\n",
                "    print(\"Khong phải phuong trinh bac 2!\")\n",
                "else:\n",
                "    delta = b ** 2 - 4 * a * c\n",
                "    if delta < 0:\n",
                "        print(\"Phuong trinh vo nghiem\")\n",
                "    elif delta == 0:\n",
                "        print(f\"Phuong trinh co nghiem kep x = {-b/2*a}\")\n",
                "    else:\n",
                "        print(f\"Phuong trinh co 2 nghiem phan biet x1 = {(-b + math.sqrt(delta))/2*a} va x2 = {(-b - math.sqrt(delta))/2*a}\")"
            ]
        },
        {
            "cell_type": "code",
            "execution_count": null,
            "metadata": {},
            "outputs": [],
            "source": [
                "n = int(input(\"Nhap n = \"))\n",
                "while not 20 <= n <= 30:\n",
                "    n = int(input(\"Nhap n = \"))\n",
                "x = float(input(\"Nhap x = \"))\n",
                "P = 2020 * (x ** n) + sum(map(lambda n : n / x ** n, range(1, n + 1)))\n",
                "print(f\"P = {P:.10f}\")\n"
            ]
        },
        {
            "cell_type": "code",
            "execution_count": null,
            "metadata": {},
            "outputs": [],
            "source": [
                "n = int(input(\"Nhap n = \"))\n",
                "while n <= 0:\n",
                "    n = int(input(\"Nhap n = \"))\n",
                "\n",
                "# Cách 1\n",
                "temp = n\n",
                "rvs = 0\n",
                "while n > 0:\n",
                "    end = n % 10\n",
                "    rvs = rvs * 10 + end\n",
                "    n = n // 10\n",
                "\n",
                "if temp == rvs:\n",
                "    print(\"So doi xung!\")\n",
                "else:\n",
                "    print(\"So khong doi xung!\")\n",
                "\n",
                "# Cách 2\n",
                "if str(n) == str(n)[::-1]:\n",
                "    print(\"So doi xung!\")\n",
                "else:\n",
                "    print(\"So khong doi xung!\")\n",
                "\n"
            ]
        },
        {
            "cell_type": "code",
            "execution_count": null,
            "metadata": {},
            "outputs": [],
            "source": [
                "import math\n",
                "\n",
                "n = int(input(\"Nhap n = \"))\n",
                "while n <= 0:\n",
                "    n = int(input(\"Nhap n = \"))\n",
                "\n",
                "if n > 1:\n",
                "    for i in range(2, int(math.sqrt(n)) + 1):\n",
                "        if not n % i:\n",
                "            print(f\"{n} khong la so nguyen to\")\n",
                "            break\n",
                "    else:\n",
                "        print(f\"{n} la so nguyen to\")\n",
                "else:\n",
                "    print(f\"{n} khong la so nguyen to\")\n"
            ]
        }
    ],
    "metadata": {
        "interpreter": {
            "hash": "a1f3bbb555e329d45ef3287fd3ea4ae59245acf701554797c0e32d3788340df7"
        },
        "kernelspec": {
            "display_name": "Python 3.10.2 64-bit",
            "language": "python",
            "name": "python3"
        },
        "language_info": {
            "codemirror_mode": {
                "name": "ipython",
                "version": 3
            },
            "file_extension": ".py",
            "mimetype": "text/x-python",
            "name": "python",
            "nbconvert_exporter": "python",
            "pygments_lexer": "ipython3",
            "version": "3.10.2"
        },
        "orig_nbformat": 4
    },
    "nbformat": 4,
    "nbformat_minor": 2
}