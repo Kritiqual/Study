{
 "cells": [
  {
   "cell_type": "code",
   "execution_count": null,
   "metadata": {},
   "outputs": [],
   "source": [
    "import os\n",
    "\n",
    "with open(\"./test.txt\", \"w\") as f:\n",
    "    # a = [int(input()) for i in range(int(input()))]\n",
    "    a = list(map(int, input(\"Nhap mang: \").split()))\n",
    "    f.write(f\"Mang a: {a}\\n\")\n",
    "\n",
    "with open(\"./test.txt\", \"a\") as f:\n",
    "    a = [\n",
    "        list(map(int, input(\"Nhap mang 2: \").split()))\n",
    "        for i in range(int(input(\"Range: \")))\n",
    "    ]\n",
    "    f.write(f\"{a}\")\n",
    "\n",
    "with open(\"./test.txt\", \"r\") as f:\n",
    "    print(f.read())"
   ]
  },
  {
   "cell_type": "code",
   "execution_count": null,
   "metadata": {},
   "outputs": [],
   "source": [
    "# print a matrix into a file\n",
    "def print_matrix(matrix, file):\n",
    "    with open(file, \"w\") as f:\n",
    "        for i in range(len(matrix)):\n",
    "            for j in range(len(matrix[i])):\n",
    "                f.write(f\"{matrix[i][j]} \")\n",
    "            f.write(\"\\n\")\n",
    "\n",
    "\n",
    "# read a matrix from a file\n",
    "def read_matrix(file):\n",
    "    with open(file, \"r\") as f:\n",
    "        row, col = f.readline().split()\n",
    "        matrix = []\n",
    "        for _ in range(int(row)):\n",
    "            ele = f.readline().split()\n",
    "            for j in range(int(col)):\n",
    "                ele[j] = float(ele[j])\n",
    "            matrix.append(ele)\n",
    "    return matrix\n",
    "\n",
    "\n",
    "print_matrix([[1, 2, 3], [4, 5, 6], [7, 8, 9]], \"./matrix.txt\")\n",
    "print(read_matrix(\"./matrixread.txt\"))\n",
    "print(read_matrix(\"./Iris.txt\"))\n"
   ]
  },
  {
   "cell_type": "code",
   "execution_count": null,
   "metadata": {},
   "outputs": [],
   "source": [
    "import os\n",
    "import shutil\n",
    "\n",
    "print(os.getcwd())\n",
    "os.mkdir(\"./new_test_dir\")\n",
    "os.rename(\"./testdir.txt\", \"./new_test_dir/testdir.txt\")\n",
    "os.listdir()\n",
    "os.rename(\"./new_test_dir\", \"./test_dir\")\n",
    "os.remove(\"./test_dir/testdir.txt\")\n",
    "os.rmdir(\"./test_dir\")\n"
   ]
  }
 ],
 "metadata": {
  "language_info": {
   "name": "python"
  },
  "orig_nbformat": 4
 },
 "nbformat": 4,
 "nbformat_minor": 2
}
