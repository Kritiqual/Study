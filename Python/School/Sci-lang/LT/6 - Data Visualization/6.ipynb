{
 "cells": [
  {
   "cell_type": "code",
   "execution_count": null,
   "metadata": {},
   "outputs": [],
   "source": [
    "import matplotlib.pyplot as plt\n",
    "import numpy as np\n",
    "\n",
    "\n",
    "c = {\n",
    "    \"fg\": \"#F8F8F2\",\n",
    "    \"bg\": \"#282A36\",\n",
    "    \"black\": \"#000000\",\n",
    "    \"red\": \"#FF5555\",\n",
    "    \"green\": \"#50FA7B\",\n",
    "    \"yellow\": \"#F1FA8C\",\n",
    "    \"blue\": \"#BD93F9\",\n",
    "    \"magenta\": \"#FF79C6\",\n",
    "    \"cyan\": \"#8BE9FD\",\n",
    "    \"white\": \"#BFBFBF\",\n",
    "}\n",
    "\n",
    "x = np.random.rand(11)\n",
    "y = np.array(x)\n",
    "\n",
    "font = {\"family\": \"Arial\", \"color\": c[\"blue\"], \"size\": 20}\n",
    "plt.title(\"Đồ thị 10 điểm bất kỳ\", fontdict=font)\n",
    "plt.xlabel(\"Giá trị của x\", loc=\"center\", c=c[\"red\"])\n",
    "plt.ylabel(\"Giá trị của y\", loc=\"center\", c=c[\"cyan\"])\n",
    "\n",
    "plt.plot(x, y, marker=\"*\", ms=10, mec=c[\"red\"], mfc=c[\"green\"])\n",
    "plt.plot(x, y, ls=\"dashed\", c=c[\"blue\"], lw=3)\n",
    "plt.grid(ls=\"dashed\", c=c[\"white\"], lw=0.75)\n",
    "plt.show()\n",
    "\n",
    "\n",
    "def f(x):\n",
    "    return 2 * x**3 - 3 * x**2 + x + 1\n",
    "\n",
    "\n",
    "x = np.linspace(-10, 10, 100)\n",
    "y = f(x)\n",
    "plt.title(\"Đồ thị y = 2x^3 - 3x^2 + x + 1\", fontdict=font)\n",
    "plt.xlabel(\"Giá trị của x\", loc=\"center\", c=c[\"red\"])\n",
    "plt.ylabel(\"Giá trị của y\", loc=\"center\", c=c[\"cyan\"])\n",
    "\n",
    "plt.plot(x, y, marker=\"*\", ms=10, mec=c[\"red\"], mfc=c[\"green\"])\n",
    "plt.plot(x, y, ls=\"dashed\", c=c[\"blue\"], lw=3)\n",
    "plt.grid(ls=\"dashed\", c=c[\"white\"], lw=0.75)\n",
    "plt.show()\n"
   ]
  },
  {
   "cell_type": "code",
   "execution_count": null,
   "metadata": {},
   "outputs": [],
   "source": [
    "import matplotlib.pyplot as plt\n",
    "import numpy as np\n",
    "\n",
    "\n",
    "def f(x):\n",
    "    return np.sin(x)\n",
    "\n",
    "\n",
    "c = {\n",
    "    \"fg\": \"#F8F8F2\",\n",
    "    \"bg\": \"#282A36\",\n",
    "    \"black\": \"#000000\",\n",
    "    \"red\": \"#FF5555\",\n",
    "    \"green\": \"#50FA7B\",\n",
    "    \"yellow\": \"#F1FA8C\",\n",
    "    \"blue\": \"#BD93F9\",\n",
    "    \"magenta\": \"#FF79C6\",\n",
    "    \"cyan\": \"#8BE9FD\",\n",
    "    \"white\": \"#BFBFBF\",\n",
    "}\n",
    "\n",
    "x = np.arange(-3 * np.pi, 3 * np.pi, 0.2)\n",
    "y = f(x)\n",
    "\n",
    "font = {\"family\": \"Arial\", \"color\": c[\"blue\"], \"size\": 20}\n",
    "plt.title(\"Đồ thị sin trên đoạn (-10, 10)\", fontdict=font)\n",
    "plt.xlabel(\"Giá trị của x\", loc=\"center\", c=c[\"red\"])\n",
    "plt.ylabel(\"Giá trị của y\", loc=\"center\", c=c[\"cyan\"])\n",
    "\n",
    "plt.plot(x, y, marker=\"*\", ms=10, mec=c[\"red\"], mfc=c[\"green\"])\n",
    "plt.plot(x, y, ls=\"dashed\", c=c[\"blue\"], lw=3)\n",
    "plt.grid(ls=\"dashed\", c=c[\"white\"], lw=0.75)\n",
    "plt.show()\n"
   ]
  },
  {
   "cell_type": "code",
   "execution_count": null,
   "metadata": {},
   "outputs": [],
   "source": [
    "import numpy as np\n",
    "import matplotlib.pyplot as plt\n",
    "\n",
    "\n",
    "x = np.array([200, 500, 100, 800, 1400])\n",
    "labels = [\"A\", \"B\", \"C\", \"D\", \"E\"]\n",
    "plt.pie(x, labels=labels, shadow=True, autopct=\"%.1f%%\", explode=(0.1, 0, 0, 0.4, 0))\n",
    "plt.show()\n"
   ]
  },
  {
   "cell_type": "markdown",
   "metadata": {},
   "source": [
    "# 1. Sau thực hành 7 buổi\n",
    "- 2 bài (15p, 30 - 45p)\n",
    "- ND: từ bài 1 -> 4\n",
    "  - Thao tác thành thạo trên list, tuple, set, dict, file, string\n",
    "\n",
    "# 2. Sau khi thực hành buổi 8\n",
    "- 2 bài, 45 - 60p\n",
    "- ND: từ bài 4 -> 6\n",
    "  - Thao tác thành thạo trên mảng 1c, 2c numpy"
   ]
  },
  {
   "cell_type": "code",
   "execution_count": null,
   "metadata": {},
   "outputs": [],
   "source": [
    "# x1, y1 = map(int, input(\"Nhap x1 va y1: \").split())\n",
    "n = int(input(\"Nhap n = \"))\n",
    "l = list(map(int, input(\"Nhap list: \").split()))[:n]\n",
    "print(l)"
   ]
  }
 ],
 "metadata": {
  "interpreter": {
   "hash": "e7370f93d1d0cde622a1f8e1c04877d8463912d04d973331ad4851f04de6915a"
  },
  "kernelspec": {
   "display_name": "Python 3.10.4 64-bit",
   "language": "python",
   "name": "python3"
  },
  "language_info": {
   "codemirror_mode": {
    "name": "ipython",
    "version": 3
   },
   "file_extension": ".py",
   "mimetype": "text/x-python",
   "name": "python",
   "nbconvert_exporter": "python",
   "pygments_lexer": "ipython3",
   "version": "3.10.5"
  },
  "orig_nbformat": 4
 },
 "nbformat": 4,
 "nbformat_minor": 2
}
