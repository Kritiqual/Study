{
 "cells": [
  {
   "cell_type": "code",
   "execution_count": null,
   "metadata": {},
   "outputs": [],
   "source": [
    "import numpy as np\n",
    "\n",
    "n = int(input(\"Nhập n: \"))\n",
    "print(np.array([1, 2, 3, 4, 5]))\n",
    "print(np.linspace(1, 11, n))\n",
    "\n",
    "c35 = np.array([[1, 2, 3, 4, 5], [6, 7, 8, 9, 10], [11, 12, 13, 14, 15]])\n",
    "print(f\"Số chiều: {np.ndim(c35)}\")\n",
    "print(f\"Kích thước theo chiều x và y: {c35.shape}\")\n",
    "print(f\"Kiểu dữ liệu: {c35.dtype}\")\n",
    "\n",
    "print(np.eye(n))\n",
    "print(np.diag([3, 5, 1, 9, 18]))\n",
    "\n",
    "print(np.random.randn(n))\n"
   ]
  },
  {
   "cell_type": "code",
   "execution_count": null,
   "metadata": {},
   "outputs": [],
   "source": [
    "r = int(input(\"Nhập số dòng: \"))\n",
    "c = int(input(\"Nhập số cột: \"))\n",
    "matrix = [\n",
    "    list(map(int, input(f\"Nhập dòng thứ {i+1} của ma trận: \").split()))[:c]\n",
    "    for i in range(r)\n",
    "]\n",
    "print(matrix)\n",
    "\n",
    "k = int()"
   ]
  },
  {
   "cell_type": "code",
   "execution_count": null,
   "metadata": {},
   "outputs": [],
   "source": [
    "a = np.array([[1, 2, 3], [4, 5, 6], [7, 8, 9]])\n",
    "print(a[:, 0])\n",
    "print(a[::-1])"
   ]
  }
 ],
 "metadata": {
  "interpreter": {
   "hash": "e7370f93d1d0cde622a1f8e1c04877d8463912d04d973331ad4851f04de6915a"
  },
  "kernelspec": {
   "display_name": "Python 3.10.4 64-bit",
   "language": "python",
   "name": "python3"
  },
  "language_info": {
   "codemirror_mode": {
    "name": "ipython",
    "version": 3
   },
   "file_extension": ".py",
   "mimetype": "text/x-python",
   "name": "python",
   "nbconvert_exporter": "python",
   "pygments_lexer": "ipython3",
   "version": "3.10.4"
  },
  "orig_nbformat": 4
 },
 "nbformat": 4,
 "nbformat_minor": 2
}
