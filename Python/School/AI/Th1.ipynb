{
 "cells": [
  {
   "cell_type": "code",
   "execution_count": null,
   "metadata": {},
   "outputs": [],
   "source": [
    "# Bài 1\n",
    "a, b = map(int, input(\"Nhập chiều dài và chiều rộng: \").split())\n",
    "print(f\"Diện tích là: {a * b}\")\n",
    "print(f\"Chu vi là: {(a + b) * 2}\")\n"
   ]
  },
  {
   "cell_type": "code",
   "execution_count": null,
   "metadata": {},
   "outputs": [],
   "source": [
    "# Bài 2\n",
    "n = 20000 * int(input(\"Nhập trọng lượng của bưu phẩm: \"))\n",
    "print(f\"Bưu phí của bưu phẩm là: {n} đồng\")"
   ]
  },
  {
   "cell_type": "code",
   "execution_count": null,
   "metadata": {},
   "outputs": [],
   "source": [
    "# Bài 3\n",
    "a, b = map(int, input(\"Nhập vào hệ số a và b = \").split())\n",
    "\n",
    "if a == 0:\n",
    "    print(\"Phương trình có vô số nghiệm\" if b == 0 else \"Phương trình vô nghiệm\")\n",
    "else:\n",
    "    print(f\"Phương trình có nghiệm x = {-b / a}\")\n"
   ]
  },
  {
   "cell_type": "code",
   "execution_count": null,
   "metadata": {},
   "outputs": [],
   "source": [
    "# Bài 4\n",
    "sum = 0\n",
    "for i in range(1, 101):\n",
    "    if i % 2:\n",
    "        sum += i\n",
    "print(sum)\n"
   ]
  },
  {
   "cell_type": "code",
   "execution_count": null,
   "metadata": {},
   "outputs": [],
   "source": [
    "# Bài 5\n",
    "print([i for i in range(1001) if i % 2])"
   ]
  },
  {
   "cell_type": "code",
   "execution_count": null,
   "metadata": {},
   "outputs": [],
   "source": [
    "# Bài 6\n",
    "degF = float(input(\"Nhập vào nhiệt độ F: \"))\n",
    "print(\"{}°F = {:.5f}°C\".format(degF, (degF - 32) * 5 / 9))"
   ]
  },
  {
   "cell_type": "code",
   "execution_count": null,
   "metadata": {},
   "outputs": [],
   "source": [
    "# Bài 7\n",
    "def isPrime(n):\n",
    "    if n < 2:\n",
    "        return False\n",
    "    for i in range(2, int(n**0.5) + 1):\n",
    "        if n % i == 0:\n",
    "            return False\n",
    "    return True\n",
    "\n",
    "\n",
    "n = int(input(\"Nhập số nguyên dương: \"))\n",
    "print(\"{} {}\".format(n, \"là số nguyên tố\" if isPrime(n) else \"không phải số nguyên tố\"))\n"
   ]
  },
  {
   "cell_type": "code",
   "execution_count": null,
   "metadata": {},
   "outputs": [],
   "source": [
    "# Bài 8\n",
    "n = int(input(\"Nhập số điện: \"))\n",
    "if n <= 100:\n",
    "    sum = n * 600\n",
    "elif n <= 150:\n",
    "    sum = n * 900 - 30000\n",
    "elif n <= 200:\n",
    "    sum = n * 1200 - 75000\n",
    "elif n <= 300:\n",
    "    sum = n * 1500 - 60000\n",
    "else:\n",
    "    sum = n * 2000 - 85000\n",
    "\n",
    "print(f\"Tiền điện phải trả là: {sum} đồng\")\n"
   ]
  },
  {
   "cell_type": "code",
   "execution_count": null,
   "metadata": {},
   "outputs": [],
   "source": [
    "# Bài 9\n",
    "def S1(n):\n",
    "    res = 0\n",
    "    for i in range(1, n + 1):\n",
    "        res += 1 / (2 * i)\n",
    "    return res\n",
    "\n",
    "\n",
    "def S2(n):\n",
    "    res = 0\n",
    "    for i in range(n + 1):\n",
    "        res += 1 / (2 * i + 1)\n",
    "    return res\n",
    "\n",
    "\n",
    "def S3(n):\n",
    "    res = 0\n",
    "    for i in range(1, n + 1):\n",
    "        res += 1 / (i * (i + 1))\n",
    "    return res\n",
    "\n",
    "\n",
    "n = int(input(\"Nhập vào số n: \"))\n",
    "print(f\"S1({n}) = {S1(n):.5f}\")\n",
    "print(f\"S2({n}) = {S2(n):.5f}\")\n",
    "print(f\"S3({n}) = {S3(n):.5f}\")\n"
   ]
  }
 ],
 "metadata": {
  "interpreter": {
   "hash": "e7370f93d1d0cde622a1f8e1c04877d8463912d04d973331ad4851f04de6915a"
  },
  "kernelspec": {
   "display_name": "Python 3.10.2 64-bit",
   "language": "python",
   "name": "python3"
  },
  "language_info": {
   "codemirror_mode": {
    "name": "ipython",
    "version": 3
   },
   "file_extension": ".py",
   "mimetype": "text/x-python",
   "name": "python",
   "nbconvert_exporter": "python",
   "pygments_lexer": "ipython3",
   "version": "3.10.3"
  },
  "orig_nbformat": 4
 },
 "nbformat": 4,
 "nbformat_minor": 2
}
