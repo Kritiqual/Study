{
    "cells": [
        {
            "cell_type": "code",
            "execution_count": null,
            "metadata": {},
            "outputs": [],
            "source": [
                "import numpy as np\n",
                "\n",
                "\n",
                "def adj_list(file):\n",
                "    with open(file, \"r\") as f:\n",
                "        n = f.readline().split()[0]\n",
                "        k = np.zeros((int(n), int(n)), dtype=int)\n",
                "        for _ in range(int(n)):\n",
                "            line = f.readline().split()\n",
                "            for i in range(1, len(line)):\n",
                "                k[int(line[0]) - 1, int(line[i]) - 1] = 1\n",
                "        return k\n",
                "\n",
                "\n",
                "print(adj_list(\"./matrix.txt\"))\n"
            ]
        },
        {
            "cell_type": "code",
            "execution_count": null,
            "metadata": {},
            "outputs": [],
            "source": [
                "#TODO: tìm tổng số node\n",
                "def adj_list(file):\n",
                "    with open(file, \"r\") as f:\n",
                "        n = f.readline().split()[0]\n",
                "        d = {}\n",
                "        for i in range(int(n)):\n",
                "            d[i] = []\n",
                "            line = f.readline().split()\n",
                "            for i in range(1, len(line)):\n",
                "                d[line[0]].append(line[i])\n",
                "        return d\n",
                "\n",
                "\n",
                "print(adj_list(\"./matrix.txt\"))\n"
            ]
        },
        {
            "cell_type": "code",
            "execution_count": null,
            "metadata": {},
            "outputs": [],
            "source": [
                "# graph = {\"1\": [\"2\"], \"2\": [\"3\", \"4\"], \"3\": [\"8\"], \"4\": [\"5\", \"6\"], \"5\": [\"7\"], \"7\": [], \"8\": [], \"6\": []}\n",
                "graph = adj_list(\"./matrix.txt\")\n",
                "\n",
                "visited = set()\n",
                "\n",
                "\n",
                "def dfs(visited, graph, node):\n",
                "    if node not in visited:\n",
                "        print(node)\n",
                "        visited.add(node)\n",
                "        for neighbour in graph[node]:\n",
                "            dfs(visited, graph, neighbour)\n",
                "\n",
                "\n",
                "print(\"Following is the Depth-First Search\")\n",
                "dfs(visited, graph, \"1\")\n"
            ]
        }
    ],
    "metadata": {
        "interpreter": {
            "hash": "e7370f93d1d0cde622a1f8e1c04877d8463912d04d973331ad4851f04de6915a"
        },
        "kernelspec": {
            "display_name": "Python 3.10.4 64-bit",
            "language": "python",
            "name": "python3"
        },
        "language_info": {
            "codemirror_mode": {
                "name": "ipython",
                "version": 3
            },
            "file_extension": ".py",
            "mimetype": "text/x-python",
            "name": "python",
            "nbconvert_exporter": "python",
            "pygments_lexer": "ipython3",
            "version": "3.10.4"
        },
        "orig_nbformat": 4
    },
    "nbformat": 4,
    "nbformat_minor": 2
}
