{
    "cells": [
        {
            "cell_type": "code",
            "execution_count": null,
            "metadata": {},
            "outputs": [],
            "source": [
                "# Bài 1\n",
                "def bbSort(n):\n",
                "    for i in range(len(n)):\n",
                "        for j in range(i + 1, len(n) - 1):\n",
                "            if n[i] < n[j]:\n",
                "                n[i], n[j] = n[j], n[i]\n",
                "\n",
                "\n",
                "n = [34, 14, 24, 54, 84, 64, 94, 74, 4]\n",
                "bbSort(n)\n",
                "print(n)\n"
            ]
        },
        {
            "cell_type": "code",
            "execution_count": null,
            "metadata": {},
            "outputs": [],
            "source": [
                "# Bài 2\n",
                "def selSort(n):\n",
                "    for i in range(len(n)):\n",
                "        m = i\n",
                "        for j in range(i + 1, len(n)):\n",
                "            if n[m] < n[j]:\n",
                "                m = j\n",
                "        n[i], n[m] = n[m], n[i]\n",
                "\n",
                "\n",
                "n = [34, 14, 24, 54, 84, 64, 94, 74, 4]\n",
                "selSort(n)\n",
                "print(n)\n"
            ]
        },
        {
            "cell_type": "code",
            "execution_count": null,
            "metadata": {},
            "outputs": [],
            "source": [
                "# Bài 3\n",
                "def insSort(n):\n",
                "    for i in range(1, len(n)):\n",
                "        j = i\n",
                "        while j > 0 and n[j - 1] < n[j]:\n",
                "            n[j], n[j - 1] = n[j - 1], n[j]\n",
                "            j -= 1\n",
                "\n",
                "\n",
                "n = [34, 14, 24, 54, 84, 64, 94, 74, 4]\n",
                "insSort(n)\n",
                "print(n)\n"
            ]
        },
        {
            "cell_type": "code",
            "execution_count": null,
            "metadata": {},
            "outputs": [],
            "source": [
                "# Bài 4\n",
                "def bbSortStd(n):\n",
                "    count = True\n",
                "    for i in range(len(n)):\n",
                "        if len(n[i][\"name\"].split()) <= 2:\n",
                "            count = False\n",
                "    if count:\n",
                "        for i in range(len(n)):\n",
                "            for j in range(i + 1, len(n)):\n",
                "                name1 = n[i][\"name\"].split()[-1]\n",
                "                name2 = n[j][\"name\"].split()[-1]\n",
                "                if name1 < name2:\n",
                "                    n[i], n[j] = n[j], n[i]\n",
                "        else:\n",
                "            print(n)\n",
                "    else:\n",
                "        print(\"Danh sách chứa tên không hợp lệ!\")\n",
                "\n",
                "\n",
                "stdD = []\n",
                "for i in range(int(input(\"Nhập số lượng học sinh: \"))):\n",
                "    subD = {}\n",
                "    subD[\"name\"] = input(f\"Nhập tên học sinh thứ {i+1}: \")\n",
                "    subD[\"sex\"] = input(f\"Nhập giới tính học sinh thứ {i+1}: \")\n",
                "    subD[\"year\"] = int(input(f\"Nhập năm sinh học sinh thứ {i+1}: \"))\n",
                "    subD[\"score\"] = float(input(f\"Nhập điểm học sinh thứ {i+1}: \"))\n",
                "    stdD.append(subD)   \n",
                "\n",
                "bbSortStd(stdD)\n"
            ]
        }
    ],
    "metadata": {
        "interpreter": {
            "hash": "e7370f93d1d0cde622a1f8e1c04877d8463912d04d973331ad4851f04de6915a"
        },
        "kernelspec": {
            "display_name": "Python 3.10.4 64-bit",
            "language": "python",
            "name": "python3"
        },
        "language_info": {
            "codemirror_mode": {
                "name": "ipython",
                "version": 3
            },
            "file_extension": ".py",
            "mimetype": "text/x-python",
            "name": "python",
            "nbconvert_exporter": "python",
            "pygments_lexer": "ipython3",
            "version": "3.10.4"
        },
        "orig_nbformat": 4
    },
    "nbformat": 4,
    "nbformat_minor": 2
}