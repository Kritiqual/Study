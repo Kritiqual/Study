{
    "cells": [
        {
            "cell_type": "code",
            "execution_count": null,
            "metadata": {},
            "outputs": [],
            "source": [
                "# Bài 1\n",
                "def ApowN(a, n):\n",
                "    if n == 1:\n",
                "        return a\n",
                "    return a * ApowN(a, n-1)\n",
                "\n",
                "a = float(input(\"Nhập số thực a: \"))\n",
                "n = int(input(\"Nhập số ngyên dương n: \"))\n",
                "print(f\"{a}^{n} là: {ApowN(a, n)}\")"
            ]
        },
        {
            "cell_type": "code",
            "execution_count": null,
            "metadata": {},
            "outputs": [],
            "source": [
                "# Bài 2\n",
                "def bbSort(X):\n",
                "    for i in range(len(X)):\n",
                "        for j in range(i + 1, len(X)):\n",
                "            if X[i] > X[j]:\n",
                "                X[i], X[j] = X[j], X[i]\n",
                "\n",
                "\n",
                "X = [18, 73, 17, 56, 10, 86]\n",
                "print(f\"Mảng ban đầu: {X}\")\n",
                "print(f\"Mảng sau khi sắp xếp: {X}\")\n"
            ]
        }
    ],
    "metadata": {
        "interpreter": {
            "hash": "e7370f93d1d0cde622a1f8e1c04877d8463912d04d973331ad4851f04de6915a"
        },
        "kernelspec": {
            "display_name": "Python 3.10.4 64-bit",
            "language": "python",
            "name": "python3"
        },
        "language_info": {
            "codemirror_mode": {
                "name": "ipython",
                "version": 3
            },
            "file_extension": ".py",
            "mimetype": "text/x-python",
            "name": "python",
            "nbconvert_exporter": "python",
            "pygments_lexer": "ipython3",
            "version": "3.10.4"
        },
        "orig_nbformat": 4
    },
    "nbformat": 4,
    "nbformat_minor": 2
}