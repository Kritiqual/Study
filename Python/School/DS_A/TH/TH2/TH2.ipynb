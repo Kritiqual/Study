{
    "cells": [
        {
            "cell_type": "code",
            "execution_count": null,
            "metadata": {},
            "outputs": [],
            "source": [
                "# Bài 1\n",
                "def mtp(b):\n",
                "    if b == 0:\n",
                "        return 1\n",
                "    else:\n",
                "        return 2 * mtp(b - 1)\n",
                "\n",
                "print(mtp(int(input(\"Nhập số cần tính: \"))))\n"
            ]
        },
        {
            "cell_type": "code",
            "execution_count": 1,
            "metadata": {},
            "outputs": [
                {
                    "name": "stdout",
                    "output_type": "stream",
                    "text": [
                        "[7, 6, 5, 4, 4, 2, 2, 1, 1]\n",
                        "[7, 6, 5, 4, 4, 2, 2, 1, 1]\n",
                        "[7, 6, 5, 4, 4, 2, 2, 1, 1]\n"
                    ]
                }
            ],
            "source": [
                "# Bài 2\n",
                "def sorter1(arr):\n",
                "    n = len(arr)\n",
                "    for i in range(n):\n",
                "        for j in range(0, n - i - 1):\n",
                "            if arr[j] < arr[j + 1]:\n",
                "                arr[j], arr[j + 1] = arr[j + 1], arr[j]\n",
                "\n",
                "\n",
                "def sorter2(arr):\n",
                "    for i in range(len(arr)):\n",
                "        m = i\n",
                "        for j in range(i + 1, len(arr)):\n",
                "            if arr[m] < arr[j]:\n",
                "                m = j\n",
                "        arr[i], arr[m] = arr[m], arr[i]\n",
                "\n",
                "\n",
                "def sorter3(arr):\n",
                "    for i in range(1, len(arr)):\n",
                "        key = arr[i]\n",
                "        j = i - 1\n",
                "        while j >= 0 and key > arr[j]:\n",
                "            arr[j + 1] = arr[j]\n",
                "            j -= 1\n",
                "        arr[j + 1] = key\n",
                "\n",
                "\n",
                "a = [1, 4, 2, 5, 1, 6, 7, 2, 4]\n",
                "b = a\n",
                "c = a\n",
                "sorter1(a)\n",
                "print(a)\n",
                "sorter2(b)\n",
                "print(b)\n",
                "sorter3(c)\n",
                "print(c)\n"
            ]
        }
    ],
    "metadata": {
        "interpreter": {
            "hash": "e7370f93d1d0cde622a1f8e1c04877d8463912d04d973331ad4851f04de6915a"
        },
        "kernelspec": {
            "display_name": "Python 3.10.4 64-bit",
            "language": "python",
            "name": "python3"
        },
        "language_info": {
            "codemirror_mode": {
                "name": "ipython",
                "version": 3
            },
            "file_extension": ".py",
            "mimetype": "text/x-python",
            "name": "python",
            "nbconvert_exporter": "python",
            "pygments_lexer": "ipython3",
            "version": "3.10.4"
        },
        "orig_nbformat": 4
    },
    "nbformat": 4,
    "nbformat_minor": 2
}
