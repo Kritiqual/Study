{
    "cells": [
        {
            "cell_type": "code",
            "execution_count": null,
            "metadata": {},
            "outputs": [],
            "source": [
                "def seqsrc(x, k):\n",
                "    i = 0\n",
                "    while i < len(x):\n",
                "        if x[i] == k:\n",
                "            return i + 1\n",
                "        i += 1\n",
                "    return -1\n",
                "\n",
                "\n",
                "x = [34, 14, 24, 54, 84, 64, 94, 74, 4]\n",
                "k1, k2 = 94, 55\n",
                "\n",
                "print(f\"Số k1 = {k1}là số thứ {seqsrc(x, k1)}\")\n",
                "print(f\"Số k2 = {k2} là số thứ {seqsrc(x, k2)}\")\n"
            ]
        },
        {
            "cell_type": "code",
            "execution_count": null,
            "metadata": {},
            "outputs": [],
            "source": [
                "def binsrc(n, l, r, k):\n",
                "    m = abs((l + r) // 2)\n",
                "    if n[m] == k:\n",
                "        return m\n",
                "    elif n[m] > k:\n",
                "        return binsrc(n, l, m - 1, k)\n",
                "    else:\n",
                "        return binsrc(n, m + 1, r, k)\n",
                "\n",
                "\n",
                "x = [4, 14, 24, 34, 54, 64, 74, 84, 94]\n",
                "k1, k2 = 34, 60\n",
                "\n",
                "print(f\"Số k1 = {k1} là số thứ {binsrc(x, 0, len(x) -1, k1) + 1}\")\n",
                "print(f\"Số k2 = {k2} là số {binsrc(x, 0, len(x) -1, k2) + 1}\")\n"
            ]
        },
        {
            "cell_type": "code",
            "execution_count": 6,
            "metadata": {},
            "outputs": [
                {
                    "name": "stdout",
                    "output_type": "stream",
                    "text": [
                        "{'name': '3', 'sex': '3', 'year': 3, 'score': 3.0}\n",
                        "{'name': '2', 'sex': '2', 'year': 2, 'score': 2.0}\n",
                        "{'name': '2', 'sex': '2', 'year': 2, 'score': 1.0}\n",
                        "Cần tìm: name = \"2\", score = 1.0 -> Học sinh cần tìm là học sinh thứ 3\n",
                        "Có 1 học sinh có điểm 1.0\n"
                    ]
                }
            ],
            "source": [
                "def seqsrc(n, name, score):\n",
                "    i = 0\n",
                "    while i < len(n):\n",
                "        if n[i][\"name\"] == name and n[i][\"score\"] == score:\n",
                "            return i + 1\n",
                "        i += 1\n",
                "    return -1\n",
                "\n",
                "\n",
                "def binsrc(n, l, r, score):\n",
                "    if r >= l:\n",
                "        m = (l + r) // 2\n",
                "        if n[m][\"score\"] == score:\n",
                "            return m\n",
                "        elif n[m][\"score\"] < score:\n",
                "            return binsrc(n, l, m - 1, score)\n",
                "        else:\n",
                "            return binsrc(n, m + 1, r, score)\n",
                "    else:\n",
                "        return -1\n",
                "\n",
                "\n",
                "ds = []\n",
                "n = int(input(\"Nhập số lượng học sinh: \"))\n",
                "for i in range(n):\n",
                "    subds = {}\n",
                "    subds[\"name\"] = input(f\"Nhập tên học sinh {i + 1}: \")\n",
                "    subds[\"sex\"] = input(f\"Nhập giới tính học sinh {i + 1}: \")\n",
                "    subds[\"year\"] = int(input(f\"Nhập năm sinh học sinh {i + 1}: \"))\n",
                "    subds[\"score\"] = float(input(f\"Nhập điểm học sinh {i + 1}: \"))\n",
                "    ds.append(subds)\n",
                "\n",
                "name = input(\"Nhập tên học sinh: \")\n",
                "score = float(input(\"Nhập điểm học sinh: \"))\n",
                "print(f'Cần tìm: name = \"{name}\", score = {score}', end=\" \")\n",
                "print(\n",
                "    f\"-> Học sinh cần tìm là học sinh thứ {seqsrc(ds, name, score)}\"\n",
                "    if seqsrc(ds, name, score) != -1\n",
                "    else \"-> Không tìm thấy\"\n",
                ")\n",
                "\n",
                "score = float(input(\"Nhập điểm cần tìm: \"))\n",
                "res = []\n",
                "for i in ds[:]:\n",
                "    idx = binsrc(ds, 0, len(ds) - 1, score)\n",
                "    if idx != -1:\n",
                "        res.append(i)\n",
                "        ds.pop(idx)\n",
                "\n",
                "print(f\"Có {len(res)} học sinh có điểm {score}\")\n"
            ]
        }
    ],
    "metadata": {
        "interpreter": {
            "hash": "e7370f93d1d0cde622a1f8e1c04877d8463912d04d973331ad4851f04de6915a"
        },
        "kernelspec": {
            "display_name": "Python 3.10.4 64-bit",
            "language": "python",
            "name": "python3"
        },
        "language_info": {
            "codemirror_mode": {
                "name": "ipython",
                "version": 3
            },
            "file_extension": ".py",
            "mimetype": "text/x-python",
            "name": "python",
            "nbconvert_exporter": "python",
            "pygments_lexer": "ipython3",
            "version": "3.10.4"
        },
        "orig_nbformat": 4
    },
    "nbformat": 4,
    "nbformat_minor": 2
}