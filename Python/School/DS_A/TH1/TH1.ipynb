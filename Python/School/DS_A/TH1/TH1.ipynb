{
 "cells": [
  {
   "cell_type": "code",
   "execution_count": null,
   "metadata": {},
   "outputs": [],
   "source": [
    "# Bai 1\n",
    "def fibonacci(n):\n",
    "    if n <= 2:\n",
    "        return 1\n",
    "    else:\n",
    "        return fibonacci(n - 1) + fibonacci(n - 2)\n",
    "\n",
    "\n",
    "n = int(input(\"Nhap so n = \"))\n",
    "print(f\"So fibonacci thu {n} la: {fibonacci(n)}\")\n",
    "print(f\"Day {n} so fibonacci: {[fibonacci(i) for i in range(n)]}\")\n"
   ]
  },
  {
   "cell_type": "code",
   "execution_count": null,
   "metadata": {},
   "outputs": [],
   "source": [
    "# Bai 2\n",
    "def ToH(n, src, dst, mid):\n",
    "    if n == 1:\n",
    "        print(\"Chuyển đĩa 1 từ cọc\", src, \"sang cọc\", dst)\n",
    "        return\n",
    "    ToH(n - 1, src, mid, dst)\n",
    "    print(\"Chuyển đĩa\", n, \"từ cọc\", src, \"sang cọc\", dst)\n",
    "    ToH(n - 1, mid, dst, src)\n",
    "\n",
    "\n",
    "ToH(3, \"A\", \"C\", \"B\")\n"
   ]
  },
  {
   "cell_type": "code",
   "execution_count": null,
   "metadata": {},
   "outputs": [],
   "source": [
    "# Bai 3\n",
    "def ucln(a, b):\n",
    "    r = a % b\n",
    "    if r == 0:\n",
    "        return b\n",
    "    else:\n",
    "        return ucln(b, r)\n",
    "\n",
    "\n",
    "a, b = map(int, input(\"Nhap 2 so a va b = \").split())\n",
    "# # print(f\"Uoc chung lon nhat cua {a} va {b} la: {ucln(a, b)}\")\n"
   ]
  },
  {
   "cell_type": "code",
   "execution_count": null,
   "metadata": {},
   "outputs": [],
   "source": [
    "# Bai 4\n",
    "def maxDC(n, l, r):\n",
    "    if l == r:\n",
    "        return n[l]\n",
    "    elif l == r - 1:\n",
    "        return n[l] if n[l] > n[r] else n[r]\n",
    "    else:\n",
    "        m = (l + r) // 2\n",
    "        lm, rm = maxDC(n, l, m), maxDC(n, m + 1, r)\n",
    "        return lm if lm > rm else rm\n",
    "\n",
    "\n",
    "n = list(map(int, input(\"Nhap mang: \").split()))\n",
    "print(f\"Mang ban dau la: {[i for i in n]}\")\n",
    "print(f\"Max cua mang la: {maxDC(n, 0, len(n) - 1)}\")\n"
   ]
  },
  {
   "cell_type": "code",
   "execution_count": null,
   "metadata": {},
   "outputs": [],
   "source": [
    "# Bai 5\n",
    "def powDC(x, n):\n",
    "    if n == 1:\n",
    "        return x\n",
    "    else:\n",
    "        tmp = powDC(x, n / 2)\n",
    "        return tmp**2 if n % 2 == 0 else (tmp**2) * x\n",
    "\n",
    "\n",
    "x, n = map(int, input(\"Nhap so x va so mu n: \").split())\n",
    "print(f\"{x}^{n} = {powDC(x, n)}\")\n"
   ]
  },
  {
   "cell_type": "code",
   "execution_count": null,
   "metadata": {},
   "outputs": [],
   "source": [
    "# Bai 6\n",
    "def countDC(n, l, r, x):\n",
    "    if l == r:\n",
    "        return 1 if n[l] == x else 0\n",
    "    elif l == r - 1:\n",
    "        if n[l] == x:\n",
    "            return 1\n",
    "        elif n[r] == x:\n",
    "            return 1\n",
    "        elif n[l] == n[r]:\n",
    "            mid = (l + r) // 2\n",
    "            return countDC(n, l, mid, x) + countDC(n, mid + 1, r, x)\n",
    "        else:\n",
    "            return 0\n",
    "    else:\n",
    "        mid = (l + r) // 2\n",
    "        return countDC(n, l, mid, x) + countDC(n, mid + 1, r, x)\n",
    "\n",
    "\n",
    "n = list(map(int, input(\"Nhap cac phan tu: \").split()))\n",
    "x = int(input(\"Nhap so x can dem:\"))\n",
    "print(f\"So lan xuat hien cua {x} trong mang {n} la: {countDC(n, 0, len(n), x)}\")\n"
   ]
  },
  {
   "cell_type": "code",
   "execution_count": null,
   "metadata": {},
   "outputs": [],
   "source": [
    "# Bai 6\n",
    "def count(n, l, r, x):\n",
    "    if l == r:\n",
    "        return 1 if n[l] == x else 0\n",
    "    else:\n",
    "        mid = (l + r) // 2\n",
    "        return count(n, l, mid, x) + count(n, mid + 1, r, x)\n",
    "\n",
    "\n",
    "n = list(map(int, input(\"Nhap day so: \").split()))\n",
    "x = int(input(\"Nhap so x can dem: \"))\n",
    "print(f\"So lan xuat hien cua {x} trong mang {n} la: {count(n, 0, len(n) - 1, x)}\")\n"
   ]
  }
 ],
 "metadata": {
  "interpreter": {
   "hash": "e7370f93d1d0cde622a1f8e1c04877d8463912d04d973331ad4851f04de6915a"
  },
  "kernelspec": {
   "display_name": "Python 3.10.2 64-bit",
   "language": "python",
   "name": "python3"
  },
  "language_info": {
   "codemirror_mode": {
    "name": "ipython",
    "version": 3
   },
   "file_extension": ".py",
   "mimetype": "text/x-python",
   "name": "python",
   "nbconvert_exporter": "python",
   "pygments_lexer": "ipython3",
   "version": "3.10.3"
  },
  "orig_nbformat": 4
 },
 "nbformat": 4,
 "nbformat_minor": 2
}
