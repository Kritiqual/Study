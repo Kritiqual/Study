{
    "cells": [
        {
            "cell_type": "code",
            "execution_count": null,
            "source": [
                "# Bai 1\r\n",
                "import os\r\n",
                "\r\n",
                "n = int(input(\"Nhap n = \"))\r\n",
                "while n not in range(5, 81):\r\n",
                "    os.system(\"cls\")\r\n",
                "    n = int(input(\"Nhap n = \"))\r\n",
                "list = [int(input(\"Nhap so nguyen = \")) for i in range(n)]\r\n",
                "\r\n",
                "# 1.1\r\n",
                "x = int(input(\"Nhap so can tim = \"))\r\n",
                "print(list.count(x))\r\n",
                "\r\n",
                "# 1.2\r\n",
                "list[2:5] = [2, -9, 1]\r\n",
                "print(\"List sau khi thay the:\", list)\r\n",
                "\r\n",
                "# 1.3\r\n",
                "print(\"So lon nhat la:\", max(list))\r\n",
                "print(\"So nho nhat la:\", min(list))\r\n",
                "\r\n",
                "# 1.4\r\n",
                "list.insert(0, int(input(\"Nhap so can chen = \")))\r\n",
                "print(\"List sau khi chen:\", list)\r\n",
                "\r\n",
                "# 1.5\r\n",
                "tmp_list = list[:]\r\n",
                "if tmp_list.sort(reverse=True) == list:\r\n",
                "    print(\"List duoc sap xep tang dan!\")\r\n",
                "elif tmp_list.sort() == list:\r\n",
                "    print(\"List duoc sap xep giam dan!\")\r\n",
                "else:\r\n",
                "    print(\"List khong duoc sap xep!\")\r\n",
                "\r\n",
                "# 1.6\r\n",
                "fibo_list = [0, 1]\r\n",
                "print(\"List fibonacci:\", [fibo_list.append(fibo_list[-2] + fibo_list[-1]) for temp in range(2, n)])\r\n",
                "\r\n",
                "# 1.7\r\n",
                "list1 = [2, -1, -5, 3, -9, -12, -3, -8]\r\n",
                "print(\"List giam dan:\", sorted(list1, reverse=True))\r\n",
                "\r\n",
                "# 1.8\r\n",
                "print(\"List tang dan theo abs:\", sorted(list1, key=abs))\r\n"
            ],
            "outputs": [],
            "metadata": {}
        },
        {
            "cell_type": "code",
            "execution_count": null,
            "source": [
                "# Bai 2\r\n",
                "import os\r\n",
                "\r\n",
                "n = int(input(\"Nhap so luong CTV: \"))\r\n",
                "while n < 5:\r\n",
                "    os.system(\"cls\")\r\n",
                "    n = int(input(\"Nhap so luong CTV: \"))\r\n",
                "\r\n",
                "list1 = [\r\n",
                "    [input(\"Nhap Ma SV: \"), input(\"Nhap Ten SV: \"), input(\"Nhap gioi tinh: \"), float(input(\"Nhap Diem SV: \"))]\r\n",
                "    for _ in range(n)\r\n",
                "]\r\n",
                "\r\n",
                "for i in sorted(list1, key=lambda x: x[-1], reverse=True)[0:3]:\r\n",
                "    print(i)\r\n"
            ],
            "outputs": [],
            "metadata": {}
        },
        {
            "cell_type": "code",
            "execution_count": null,
            "source": [
                "# Bai 3\r\n",
                "n = int(input(\"Nhap so phan tu cua list: \"))\r\n",
                "pw = [temp for temp in input().split()]\r\n",
                "count = 0\r\n",
                "for i in pw:\r\n",
                "    if len(i) >= 6:\r\n",
                "        if i.isalpha() or i.isdigit():\r\n",
                "            pass\r\n",
                "        else:\r\n",
                "            if i.isalnum():\r\n",
                "                count += 1\r\n",
                "    else:\r\n",
                "        pass\r\n",
                "print(count)\r\n"
            ],
            "outputs": [],
            "metadata": {}
        },
        {
            "cell_type": "code",
            "execution_count": null,
            "source": [
                "# Bai 4\r\n",
                "print([i for i in [int(temp) for temp in input().split()] if i % 2])\r\n"
            ],
            "outputs": [],
            "metadata": {}
        },
        {
            "cell_type": "code",
            "execution_count": null,
            "source": [
                "# Bai 5\r\n",
                "ls = [temp for temp in input().split()]\r\n",
                "n = int(input(\"Nhap so list: \"))\r\n",
                "new = [ls[i : i + len(ls) // n] for i in range(0, len(ls), len(ls) // n)]\r\n",
                "print(new)\r\n"
            ],
            "outputs": [],
            "metadata": {}
        },
        {
            "cell_type": "code",
            "execution_count": null,
            "source": [
                "# Bai 6\r\n",
                "a, b, n = map(int, input().split())\r\n",
                "print([x for x in range(a, b + 1) if not x % n])\r\n"
            ],
            "outputs": [],
            "metadata": {}
        },
        {
            "cell_type": "code",
            "execution_count": null,
            "source": [
                "# Bai 7\r\n",
                "import os\r\n",
                "\r\n",
                "n = int(input(\"Nhap vao n = \"))\r\n",
                "while n < 1:\r\n",
                "    os.system(\"cls\")\r\n",
                "    n = int(input(\"Nhap vao n = \"))\r\n",
                "print([i * i for i in range(n)])\r\n"
            ],
            "outputs": [],
            "metadata": {}
        },
        {
            "cell_type": "code",
            "execution_count": null,
            "source": [
                "# Bai 8\r\n",
                "n = input().split()\r\n",
                "print(n)\r\n",
                "sum = 0\r\n",
                "for index, i in enumerate(n):\r\n",
                "    if index == 0:\r\n",
                "        pass\r\n",
                "    else:\r\n",
                "        sum += int(i) if not int(i) % index else 0\r\n",
                "print(sum)\r\n"
            ],
            "outputs": [],
            "metadata": {}
        },
        {
            "cell_type": "code",
            "execution_count": null,
            "source": [
                "# Bai 9\r\n",
                "tuple1 = \"tai\", \"thuy\", \"thach\", \"truong\", \"tien\"\r\n",
                "tuple2 = \"hai\", \"tai\", \"nhat minh\", \"cao minh\", \"dang anh\", \"hung\", \"truong\"\r\n",
                "print(tuple([i for i in tuple1 if i not in tuple2]))\r\n",
                "print(tuple([i for i in tuple2 if i not in tuple1]))\r\n"
            ],
            "outputs": [],
            "metadata": {}
        },
        {
            "cell_type": "code",
            "execution_count": null,
            "source": [
                "# Bai 10\r\n",
                "list1 = [0, 10, [20, 30], 40, 50, [60, 70, 80], [90, 100, 110, 120]]\r\n",
                "new_list = []\r\n",
                "for i in list1:\r\n",
                "    if type(i) is list:\r\n",
                "        for j in i:\r\n",
                "            new_list.append(j)\r\n",
                "    else:\r\n",
                "        new_list.append(i)\r\n",
                "print(new_list)\r\n"
            ],
            "outputs": [],
            "metadata": {}
        },
        {
            "cell_type": "code",
            "execution_count": null,
            "source": [
                "# Bai 11\r\n",
                "list1 = [0, 0, 1, 2, 3, 4, 4, 5, 6, 6, 6, 7, 8, 9, 4, 4]\r\n",
                "new_list = []\r\n",
                "for i in list1:\r\n",
                "    if [i for temp in range(list1.count(i))] not in new_list:\r\n",
                "        new_list.append([i for temp in range(list1.count(i))])\r\n",
                "print(new_list)\r\n"
            ],
            "outputs": [],
            "metadata": {}
        },
        {
            "cell_type": "code",
            "execution_count": 3,
            "source": [
                "S = {'red', 'blue', 'green'}\r\n",
                "for i in S:\r\n",
                "    print(id(i))"
            ],
            "outputs": [
                {
                    "output_type": "stream",
                    "name": "stdout",
                    "text": [
                        "2653208696560\n",
                        "2653208698288\n",
                        "2653208698224\n"
                    ]
                }
            ],
            "metadata": {}
        }
    ],
    "metadata": {
        "orig_nbformat": 4,
        "language_info": {
            "name": "python",
            "version": "3.9.6",
            "mimetype": "text/x-python",
            "codemirror_mode": {
                "name": "ipython",
                "version": 3
            },
            "pygments_lexer": "ipython3",
            "nbconvert_exporter": "python",
            "file_extension": ".py"
        },
        "kernelspec": {
            "name": "python3",
            "display_name": "Python 3.9.6 64-bit"
        },
        "interpreter": {
            "hash": "72f3da0796ad220a0f4df7e3a0d0e6430e0d22e14e5b4578774b87a83548941b"
        }
    },
    "nbformat": 4,
    "nbformat_minor": 2
}