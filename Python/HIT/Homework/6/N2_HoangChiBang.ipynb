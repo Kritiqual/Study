{
 "cells": [
  {
   "cell_type": "code",
   "execution_count": null,
   "source": [
    "# Bai 1\n",
    "from functools import reduce\n",
    "\n",
    "\n",
    "def MyMultiple(*num):\n",
    "    return float(reduce((lambda x, y: x * y), num))\n",
    "\n",
    "\n",
    "print(MyMultiple(1, 2, 3, 4))\n",
    "print(MyMultiple(5, 5, 5))\n",
    "print(MyMultiple(1.2, 5))\n"
   ],
   "outputs": [],
   "metadata": {}
  },
  {
   "cell_type": "code",
   "execution_count": null,
   "source": [
    "# Bai 2\n",
    "def UCLN(a, b):\n",
    "    if b == 0:\n",
    "        return a\n",
    "    else:\n",
    "        return UCLN(b, a % b)\n",
    "\n",
    "\n",
    "def BCNN(a, b):\n",
    "    return (a * b) / UCLN(a, b)\n",
    "\n",
    "\n",
    "print(BCNN(45, 33))"
   ],
   "outputs": [],
   "metadata": {}
  },
  {
   "cell_type": "code",
   "execution_count": null,
   "source": [
    "# Bai 3\n",
    "def opt(matrix, n):\n",
    "    for i in range(n[0]):\n",
    "        for j in range(n[1]):\n",
    "            print(matrix[i][j], end=\" \")\n",
    "        print()\n",
    "\n",
    "\n",
    "def rev(matrix, n):\n",
    "    opt([i[::-1] for i in matrix[::-1]], n)\n",
    "\n",
    "\n",
    "n = list(map(int, input().split()))[:2]\n",
    "matrix = []\n",
    "for i in range(n[0]):\n",
    "    matrix.append(list(map(int, input().split()))[0 : n[1]])\n",
    "print(\"===============\\nDao: \")\n",
    "rev(matrix, n)\n",
    "print(\"===============\\nBan dau: \")\n",
    "opt(matrix, n)\n"
   ],
   "outputs": [],
   "metadata": {}
  },
  {
   "cell_type": "code",
   "execution_count": 215,
   "source": [
    "# Bai 4\n",
    "from functools import reduce\n",
    "\n",
    "\n",
    "def array(n):\n",
    "    global lst\n",
    "    lst = list(map(int, input().split()))[:n]\n",
    "\n",
    "\n",
    "def sumtoindex(i):\n",
    "    return reduce((lambda x, y: x + y), lst[: i + 1])\n",
    "\n",
    "\n",
    "n = int(input())\n",
    "array(n)\n",
    "t = int(input())\n",
    "sumarr = []\n",
    "for i in range(t):\n",
    "    x = int(input())\n",
    "    sumarr.append(sumtoindex(x))\n",
    "print(*sumarr, sep=\"\\n\")\n"
   ],
   "outputs": [
    {
     "output_type": "stream",
     "name": "stdout",
     "text": [
      "3\n",
      "6\n"
     ]
    }
   ],
   "metadata": {}
  }
 ],
 "metadata": {
  "orig_nbformat": 4,
  "language_info": {
   "name": "python",
   "version": "3.9.6",
   "mimetype": "text/x-python",
   "codemirror_mode": {
    "name": "ipython",
    "version": 3
   },
   "pygments_lexer": "ipython3",
   "nbconvert_exporter": "python",
   "file_extension": ".py"
  },
  "kernelspec": {
   "name": "python3",
   "display_name": "Python 3.9.6 64-bit"
  },
  "interpreter": {
   "hash": "e7370f93d1d0cde622a1f8e1c04877d8463912d04d973331ad4851f04de6915a"
  }
 },
 "nbformat": 4,
 "nbformat_minor": 2
}