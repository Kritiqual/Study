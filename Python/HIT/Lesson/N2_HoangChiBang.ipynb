{
    "cells": [
        {
            "cell_type": "code",
            "execution_count": null,
            "source": [
                "Candy = list(map(int, input().split()))\r\n",
                "sum = 0\r\n",
                "for i in Candy:\r\n",
                "    sum += i\r\n",
                "print (\"YES\" if not sum % 2 else \"NO\")"
            ],
            "outputs": [],
            "metadata": {}
        },
        {
            "cell_type": "code",
            "execution_count": null,
            "source": [
                "str = input(\"Nhap string: \")\r\n",
                "print(\" \".join(str.split()).lower().capitalize())"
            ],
            "outputs": [],
            "metadata": {}
        },
        {
            "cell_type": "code",
            "execution_count": null,
            "source": [
                "import os\r\n",
                "\r\n",
                "n = int(input(\"Nhap so phan tu cua list: \"))\r\n",
                "while n < 5:\r\n",
                "    os.system(\"cls\")\r\n",
                "    n = int(input(\"Nhap so phan tu cua list: \"))\r\n",
                "A = list(map(int, input().split()))[:n]\r\n",
                "print(len([i for i in A if 10 <= i <= 20]))\r\n",
                "print([index for index, i in enumerate(A) if i % 2])\r\n",
                "print(A + [1, 1, 2, 3, 5])\r\n"
            ],
            "outputs": [],
            "metadata": {}
        },
        {
            "cell_type": "code",
            "execution_count": 7,
            "source": [
                "import os\r\n",
                "\r\n",
                "n = int(input(\"Nhap so mon: \"))\r\n",
                "D = {}\r\n",
                "sum = 0\r\n",
                "for i in range(n):\r\n",
                "    sub = list(input().split())[:2]\r\n",
                "    D[sub[0]] = sub[1]\r\n",
                "    if \"A\" <= sub[0] <= \"D\":\r\n",
                "        sum += int(sub[1])\r\n",
                "    elif \"E\" <= sub[0] <= \"T\":\r\n",
                "        sum += int(sub[1]) * 2\r\n",
                "    else:\r\n",
                "        sum += int(sub[1]) * 3\r\n",
                "print(\" \".join(sorted(D.keys(), key=lambda x: D[x], reverse=True)))\r\n",
                "print(sum / n)\r\n",
                "for i in D.copy():\r\n",
                "    if int(D.get(i)) < 5:\r\n",
                "        del D[i]\r\n",
                "print(D)\r\n"
            ],
            "outputs": [
                {
                    "output_type": "stream",
                    "name": "stdout",
                    "text": [
                        "Z E A\n",
                        "8.666666666666666\n",
                        "{}\n"
                    ]
                }
            ],
            "metadata": {}
        }
    ],
    "metadata": {
        "orig_nbformat": 4,
        "language_info": {
            "name": "python",
            "version": "3.9.6",
            "mimetype": "text/x-python",
            "codemirror_mode": {
                "name": "ipython",
                "version": 3
            },
            "pygments_lexer": "ipython3",
            "nbconvert_exporter": "python",
            "file_extension": ".py"
        },
        "kernelspec": {
            "name": "python3",
            "display_name": "Python 3.9.6 64-bit"
        },
        "interpreter": {
            "hash": "72f3da0796ad220a0f4df7e3a0d0e6430e0d22e14e5b4578774b87a83548941b"
        }
    },
    "nbformat": 4,
    "nbformat_minor": 2
}