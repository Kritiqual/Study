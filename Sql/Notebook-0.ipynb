{
    "metadata": {
        "kernelspec": {
            "name": "SQL",
            "display_name": "SQL",
            "language": "sql"
        },
        "language_info": {
            "name": "sql",
            "version": ""
        },
        "connection_name": "",
        "extensions": {
            "azuredatastudio": {
                "version": 1,
                "views": []
            }
        }
    },
    "nbformat_minor": 2,
    "nbformat": 4,
    "cells": [
        {
            "cell_type": "code",
            "source": [
                "CREATE DATABASE MTVCompDB\r\n",
                "\r\n",
                "USE MTVCompDB"
            ],
            "metadata": {
                "azdata_cell_guid": "520073ad-0a89-4483-9631-291ba4c84fb7",
                "tags": []
            },
            "outputs": [],
            "execution_count": null
        },
        {
            "cell_type": "code",
            "source": [
                "CREATE TABLE PHONGBAN\r\n",
                "(\r\n",
                "    MaPB char(10) PRIMARY KEY,\r\n",
                "    TenPB nchar(30) NOT NULL,\r\n",
                "    ĐiaiemPB nvarchar(45) NOT NULL\r\n",
                ")"
            ],
            "metadata": {
                "azdata_cell_guid": "10b0552b-e86f-416e-a177-88f5b6615a1f",
                "tags": []
            },
            "outputs": [],
            "execution_count": null
        },
        {
            "cell_type": "code",
            "source": [
                "CREATE TABLE NHANVIẸN\r\n",
                "(\r\n",
                "    MaNV char(10) PRIMARY KEY,\r\n",
                "    TenNV nchar(30) NOT NULL,\r\n",
                "    TrinhdoCM nvarchar(50) NOT NULL,\r\n",
                "    Chucvu nvarchar(35) NOT NULL,\r\n",
                "    MaPB char(10),\r\n",
                "    CONSTRAINT fk_MaPB FOREIGN KEY(MaPB) REFERENCES PHONGBAN(MaPB),\r\n",
                ")"
            ],
            "metadata": {
                "azdata_cell_guid": "355508e6-fbb2-42e9-8d8f-61b20a280b3f",
                "tags": []
            },
            "outputs": [],
            "execution_count": null
        },
        {
            "cell_type": "code",
            "source": [
                "CREATE TABLE KHOAHOC\r\n",
                "(\r\n",
                "    MaKH char(10) PRIMARY KEY,\r\n",
                "    TenKH nchar(30) NOT NULL,\r\n",
                "    Diadiemtochuc nvarchar(50) NOT NULL,\r\n",
                "    NgayBD datetime NOT NULL\r\n",
                ")"
            ],
            "metadata": {
                "azdata_cell_guid": "0cf47909-31d1-4c8a-8051-3e44759878c3",
                "tags": []
            },
            "outputs": [],
            "execution_count": null
        },
        {
            "cell_type": "code",
            "source": [
                "CREATE TABLE KETQUA\r\n",
                "(\r\n",
                "    MaNV char(10) NOT NULL,\r\n",
                "    MaKH char(10) NOT NULL,\r\n",
                "    CONSTRAINT fk_MaNV FOREIGN KEY(MaNV) REFERENCES NHANVIẸN(MaNV) ON UPDATE CASCADE ON DELETE CASCADE,\r\n",
                "    CONSTRAINT fk_MaKH FOREIGN KEY(MaKH) REFERENCES KHOAHOC(MaKH) ON UPDATE CASCADE ON DELETE CASCADE,\r\n",
                "    PRIMARY KEY(MaNV, MaKH),\r\n",
                "    Ketqua int NOT NULL,\r\n",
                "    Songaynghi int NOT NULL\r\n",
                ")"
            ],
            "metadata": {
                "azdata_cell_guid": "25b6b3fb-30be-430f-9216-229317e589f8",
                "tags": []
            },
            "outputs": [],
            "execution_count": null
        },
        {
            "cell_type": "code",
            "source": [
                "USE master;\r\n",
                "ALTER DATABASE MTVCompDB SET SINGLE_USER WITH ROLLBACK IMMEDIATE;\r\n",
                "DROP DATABASE MTVCompDB ;"
            ],
            "metadata": {
                "azdata_cell_guid": "8f2bf5ac-bdce-4468-89b0-b5ce45208f38",
                "tags": []
            },
            "outputs": [],
            "execution_count": null
        },
        {
            "cell_type": "code",
            "source": [
                "SELECT GETDATE()"
            ],
            "metadata": {
                "azdata_cell_guid": "3d6f6caf-5867-4075-9738-274a7256ab1f",
                "tags": []
            },
            "outputs": [],
            "execution_count": null
        }
    ]
}