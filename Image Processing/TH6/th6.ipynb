{
 "cells": [
  {
   "cell_type": "code",
   "execution_count": 2,
   "metadata": {},
   "outputs": [
    {
     "ename": "ModuleNotFoundError",
     "evalue": "No module named 'cv2'",
     "output_type": "error",
     "traceback": [
      "\u001b[0;31m---------------------------------------------------------------------------\u001b[0m",
      "\u001b[0;31mModuleNotFoundError\u001b[0m                       Traceback (most recent call last)",
      "Cell \u001b[0;32mIn[2], line 1\u001b[0m\n\u001b[0;32m----> 1\u001b[0m \u001b[39mimport\u001b[39;00m \u001b[39mcv2\u001b[39;00m\n\u001b[1;32m      2\u001b[0m \u001b[39mimport\u001b[39;00m \u001b[39mnumpy\u001b[39;00m \u001b[39mas\u001b[39;00m \u001b[39mnp\u001b[39;00m\n\u001b[1;32m      3\u001b[0m \u001b[39mfrom\u001b[39;00m \u001b[39msklearn\u001b[39;00m\u001b[39m.\u001b[39;00m\u001b[39mneighbors\u001b[39;00m \u001b[39mimport\u001b[39;00m NearestNeighbors\n",
      "\u001b[0;31mModuleNotFoundError\u001b[0m: No module named 'cv2'"
     ]
    }
   ],
   "source": [
    "import cv2\n",
    "import numpy as np\n",
    "from sklearn.neighbors import NearestNeighbors\n",
    "\n",
    "\n",
    "# Hàm tính toán histogram màu của ảnh\n",
    "def calc_histogram(img):\n",
    "    # Chuyển ảnh sang không gian màu HSV\n",
    "    hsv_img = cv2.cvtColor(img, cv2.COLOR_BGR2HSV)\n",
    "    # Tính toán histogram cho kênh Hue\n",
    "    hue_hist = cv2.calcHist([hsv_img], [0], None, [180], [0, 180])\n",
    "    # Chuẩn hóa histogram\n",
    "    hue_hist = cv2.normalize(hue_hist, None, alpha=0, beta=1, norm_type=cv2.NORM_MINMAX)\n",
    "    return hue_hist\n",
    "\n",
    "\n",
    "# Đường dẫn tới bộ Test và bộ Data\n",
    "test_path = '/home/kritiqual/Projects/Study/Image Processing/Input/TH6/test'\n",
    "data_path = '/home/kritiqual/Projects/Study/Image Processing/Input/TH6/data'\n",
    "\n",
    "# Số lượng histogram cần tính cho bộ Test và bộ Data\n",
    "test_hist_count = 5\n",
    "data_hist_count = 10\n",
    "\n",
    "# Tính toán histogram cho bộ Test\n",
    "test_histograms = np.zeros((test_hist_count, 180))\n",
    "for i in range(1, test_hist_count):\n",
    "    img_path = test_path + f't{i}.jpg'\n",
    "    img = cv2.imread(img_path)\n",
    "    img = cv2.resize(img, (256, 256))\n",
    "    hist = calc_histogram(img)\n",
    "    test_histograms[i] = hist.reshape(-1)\n",
    "\n",
    "# Tính toán histogram cho bộ Data\n",
    "data_histograms = np.zeros((data_hist_count, 180))\n",
    "for i in range(1, data_hist_count):\n",
    "    img_path = data_path + f'a{i}.jpg'\n",
    "    img = cv2.imread(img_path)\n",
    "    img = cv2.resize(img, (256, 256))\n",
    "    hist = calc_histogram(img)\n",
    "    data_histograms[i] = hist.reshape(-1)\n",
    "\n",
    "# Số lượng ảnh giống nhất cần tìm\n",
    "k = 3\n",
    "\n",
    "# Tìm k ảnh giống nhất cho mỗi ảnh trong bộ Test\n",
    "knn = NearestNeighbors(n_neighbors=k)\n",
    "knn.fit(data_histograms)\n",
    "for i in range(1, test_hist_count):\n",
    "    test_hist = test_histograms[i].reshape(1, -1)\n",
    "    _, indices = knn.kneighbors(test_hist)\n",
    "    print(f'Results for test image {i}:')\n",
    "    for j in indices[0]:\n",
    "        img_path = data_path + f'a{j + 1}.jpg'\n",
    "        img = cv2.imread(img_path)\n",
    "        img = cv2.resize(img, (256, 256))\n",
    "        orig_path = test_path + f't{i}.jpg'\n",
    "        orig = cv2.imread(orig_path)\n",
    "        orig = cv2.resize(orig, (256, 256))\n",
    "        cv2.imshow(\"Original\", orig)\n",
    "        cv2.imshow(f't{i}_result{j}', img)\n",
    "    cv2.waitKey(0)\n",
    "    cv2.destroyAllWindows()"
   ]
  }
 ],
 "metadata": {
  "kernelspec": {
   "display_name": "Python 3",
   "language": "python",
   "name": "python3"
  },
  "language_info": {
   "codemirror_mode": {
    "name": "ipython",
    "version": 3
   },
   "file_extension": ".py",
   "mimetype": "text/x-python",
   "name": "python",
   "nbconvert_exporter": "python",
   "pygments_lexer": "ipython3",
   "version": "3.11.3"
  },
  "orig_nbformat": 4
 },
 "nbformat": 4,
 "nbformat_minor": 2
}
